{
  "nbformat": 4,
  "nbformat_minor": 0,
  "metadata": {
    "colab": {
      "provenance": []
    },
    "kernelspec": {
      "name": "python3",
      "display_name": "Python 3"
    },
    "language_info": {
      "name": "python"
    }
  },
  "cells": [
    {
      "cell_type": "code",
      "execution_count": 1,
      "metadata": {
        "id": "nr1VX995fhzJ"
      },
      "outputs": [],
      "source": [
        "import requests\n",
        "\n",
        "import urllib.request\n",
        "import json"
      ]
    },
    {
      "cell_type": "code",
      "source": [
        "# Пример данных\n",
        "data = (\n",
        "    \"Stylect is a dynamic startup that helps helps women discover and buy shoes. We’re a small team based in London that has previously worked at Google, Techstars, Pixelmator and Rocket Internet.We place a high premium on simplicity no matter what we’re working on (i.e. design, programming, marketing). We’re also a team that ships fast. We built version 1 of our app in a week, the next release (built in a month) was featured in the Apple Appstore Italy as a best new fashion app. Fast release cycles are challenging, but also very fun - which is why we love them.\\xa0As we’ve grown, the projects that we’re working on have grown both in scale and in technical complexity. \\xa0Stylect is looking for someone who can help us improve our backend which gathers product data; analyses/categorizes it; and shows it to thousands of users daily. Each step in the process has unique challenges that demands a strong technical background.\"\n",
        ")"
      ],
      "metadata": {
        "id": "lrBxoRxyf36M"
      },
      "execution_count": 2,
      "outputs": []
    },
    {
      "cell_type": "code",
      "source": [
        "# формируем запрос\n",
        "def send_json(x):\n",
        "    Email_Text = x\n",
        "    #print(Email_Text)\n",
        "    body = {\n",
        "        'Email Text': Email_Text\n",
        "        }\n",
        "    myurl = 'http://bbc3-35-245-112-149.ngrok-free.app/' + '/predict'\n",
        "    #myurl = 'http://127.0.0.1:8082/' + '/predict'\n",
        "    headers = {'content-type': 'application/json; charset=utf-8'}\n",
        "    response = requests.post(myurl, json=body, headers=headers)\n",
        "    return response.json()['predictions']"
      ],
      "metadata": {
        "id": "4TBCogJYhusI"
      },
      "execution_count": 5,
      "outputs": []
    },
    {
      "cell_type": "code",
      "source": [
        "# обращение к серверу с запросом из одного набора (его построили руками выше - data)\n",
        "response = send_json(data)\n",
        "print('предсказание', response)"
      ],
      "metadata": {
        "colab": {
          "base_uri": "https://localhost:8080/"
        },
        "id": "rDrw7qjLihNi",
        "outputId": "3d50c888-24b6-49cc-fb0a-df9e8c039399"
      },
      "execution_count": 6,
      "outputs": [
        {
          "output_type": "stream",
          "name": "stdout",
          "text": [
            "предсказание 0.23882309241926503\n"
          ]
        }
      ]
    }
  ]
}